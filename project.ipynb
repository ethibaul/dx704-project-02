{
  "cells": [
    {
      "cell_type": "markdown",
      "metadata": {
        "id": "7aZ_blKrRZ3H"
      },
      "source": [
        "# DX 704 Week 2 Project\n",
        "\n",
        "This week's project will analyze fresh strawberry price data for a hypothetical \"buy low, freeze, and sell high\" business.\n",
        "Strawberries show strong seasonality in their prices compared to other fruits.\n",
        "\n",
        "![](https://ers.usda.gov/sites/default/files/_laserfiche/Charts/61401/oct14_finding_plattner_fig01.png)\n",
        "\n",
        "Image source: https://www.ers.usda.gov/amber-waves/2014/october/seasonal-fresh-fruit-price-patterns-differ-across-commodities-the-case-of-strawberries-and-apples\n",
        "\n",
        "You are considering a business where you buy strawberries when the prices are very low, carefully freeze them, even more carefully defrost them, and then sell them when the prices are high.\n",
        "You will forecast strawberry price time series and then use them to tactically pick times to buy, freeze, and sell the strawberries."
      ]
    },
    {
      "cell_type": "markdown",
      "metadata": {
        "id": "g1rddBd6_teG"
      },
      "source": [
        "The full project description, a template notebook, and raw data are available on GitHub at the following link.\n",
        "\n",
        "https://github.com/bu-cds-dx704/dx704-project-02\n"
      ]
    },
    {
      "cell_type": "markdown",
      "metadata": {},
      "source": [
        "### Example Code\n",
        "\n",
        "You may find it helpful to refer to these GitHub repositories of Jupyter notebooks for example code.\n",
        "\n",
        "* https://github.com/bu-cds-omds/dx601-examples\n",
        "* https://github.com/bu-cds-omds/dx602-examples\n",
        "* https://github.com/bu-cds-omds/dx603-examples\n",
        "* https://github.com/bu-cds-omds/dx704-examples\n",
        "\n",
        "Any calculations demonstrated in code examples or videos may be found in these notebooks, and you are allowed to copy this example code in your homework answers."
      ]
    },
    {
      "cell_type": "markdown",
      "metadata": {
        "id": "B7jHqNiZBXzD"
      },
      "source": [
        "## Part 1: Backtest Strawberry Prices\n",
        "\n",
        "Read the provided \"strawberry-prices.tsv\" with data from 2020 through 2024.\n",
        "This data is based on data from the U.S. Bureau of Statistics, but transformed so the ground truth is not online.\n",
        "https://fred.stlouisfed.org/series/APU0000711415\n",
        "\n",
        "Use the data for 2020 through 2023 to predict monthly prices in 2024.\n",
        "Spend some time to make sure you are happy with your methodology and prediction accuracy, since you will reuse the methodology to forecast 2025 next.\n",
        "Save the 2024 backtest predictions as \"strawberry-backtest.tsv\" with columns month and price.\n"
      ]
    },
    {
      "cell_type": "code",
      "execution_count": 30,
      "metadata": {
        "id": "T8OLCmHbiaoK"
      },
      "outputs": [],
      "source": [
        "# YOUR CHANGES HERE\n",
        "\n",
        "import pandas as pd\n",
        "\n",
        "# Read in TSV file\n",
        "df = pd.read_csv(\"strawberry-prices.tsv\", sep=\"\\t\", header=0)"
      ]
    },
    {
      "cell_type": "code",
      "execution_count": 31,
      "metadata": {},
      "outputs": [
        {
          "data": {
            "text/html": [
              "<div>\n",
              "<style scoped>\n",
              "    .dataframe tbody tr th:only-of-type {\n",
              "        vertical-align: middle;\n",
              "    }\n",
              "\n",
              "    .dataframe tbody tr th {\n",
              "        vertical-align: top;\n",
              "    }\n",
              "\n",
              "    .dataframe thead th {\n",
              "        text-align: right;\n",
              "    }\n",
              "</style>\n",
              "<table border=\"1\" class=\"dataframe\">\n",
              "  <thead>\n",
              "    <tr style=\"text-align: right;\">\n",
              "      <th></th>\n",
              "      <th>month</th>\n",
              "      <th>price</th>\n",
              "    </tr>\n",
              "  </thead>\n",
              "  <tbody>\n",
              "    <tr>\n",
              "      <th>0</th>\n",
              "      <td>2020-01-01</td>\n",
              "      <td>4.0490</td>\n",
              "    </tr>\n",
              "    <tr>\n",
              "      <th>1</th>\n",
              "      <td>2020-02-01</td>\n",
              "      <td>3.6250</td>\n",
              "    </tr>\n",
              "    <tr>\n",
              "      <th>2</th>\n",
              "      <td>2020-03-01</td>\n",
              "      <td>3.3770</td>\n",
              "    </tr>\n",
              "    <tr>\n",
              "      <th>3</th>\n",
              "      <td>2020-04-01</td>\n",
              "      <td>3.2328</td>\n",
              "    </tr>\n",
              "    <tr>\n",
              "      <th>4</th>\n",
              "      <td>2020-05-01</td>\n",
              "      <td>3.1260</td>\n",
              "    </tr>\n",
              "  </tbody>\n",
              "</table>\n",
              "</div>"
            ],
            "text/plain": [
              "        month   price\n",
              "0  2020-01-01  4.0490\n",
              "1  2020-02-01  3.6250\n",
              "2  2020-03-01  3.3770\n",
              "3  2020-04-01  3.2328\n",
              "4  2020-05-01  3.1260"
            ]
          },
          "execution_count": 31,
          "metadata": {},
          "output_type": "execute_result"
        }
      ],
      "source": [
        "df.head()"
      ]
    },
    {
      "cell_type": "code",
      "execution_count": 32,
      "metadata": {},
      "outputs": [
        {
          "data": {
            "image/png": "[encoded data removed]",
            "text/plain": [
              "<Figure size 1000x400 with 1 Axes>"
            ]
          },
          "metadata": {},
          "output_type": "display_data"
        }
      ],
      "source": [
        "import matplotlib.pyplot as plt\n",
        "from datetime import datetime, timedelta\n",
        "\n",
        "df = df.reset_index()\n",
        "\n",
        "df[\"month\"] = pd.to_datetime(df[\"month\"])\n",
        "df = df.sort_values(\"month\").set_index(\"month\")\n",
        "\n",
        "# Plot price over time\n",
        "plt.figure(figsize=(10,4))\n",
        "plt.plot(df.index, df[\"price\"])\n",
        "plt.title(\"Monthly Average Price of Strawberries\")\n",
        "plt.xlabel(\"Date\")\n",
        "plt.ylabel(\"Price ($)\")\n",
        "plt.xlim(df.index.min(), pd.to_datetime(\"2023-12-31\"))\n",
        "plt.tight_layout()\n",
        "plt.show()"
      ]
    },
    {
      "cell_type": "code",
      "execution_count": 33,
      "metadata": {},
      "outputs": [],
      "source": [
        "import numpy as np\n",
        "from pathlib import Path\n",
        "\n",
        "df.columns = df.columns.astype(str).str.strip().str.lower()\n",
        "df = df.reset_index()\n",
        "\n",
        "# Parse month to datetime and sort\n",
        "df['month'] = pd.to_datetime(df['month'])\n",
        "df = df.sort_values('month').reset_index(drop=True)\n",
        "\n",
        "# Split train (2020–2023) and create a complete monthly index\n",
        "train = df[(df['month'] >= '2020-01-01') & (df['month'] < '2024-01-01')].copy()\n",
        "all_months_train = pd.date_range('2020-01-01', '2023-12-01', freq='MS')\n",
        "train = train.set_index('month').reindex(all_months_train).rename_axis('month')\n",
        "train['price'] = train['price'].interpolate(method='time')\n",
        "\n",
        "# Forecast 2024 (Holt-Winters)\n",
        "forecast_index = pd.date_range('2024-01-01', '2024-12-01', freq='MS')\n",
        "y = train['price'].astype(float)\n",
        "\n",
        "try:\n",
        "    from statsmodels.tsa.holtwinters import ExponentialSmoothing\n",
        "    model = ExponentialSmoothing(\n",
        "    y, trend='add', damped_trend=True, seasonal='add', seasonal_periods=12,\n",
        "        initialization_method='estimated'\n",
        "    ).fit(optimized=True, use_brute=True)\n",
        "    preds = pd.Series(model.forecast(len(forecast_index)).values, index=forecast_index)\n",
        "except Exception:\n",
        "    # Seasonal-naive fallback: average price for each calendar month across 2020–2023\n",
        "    monthly_means = y.groupby(y.index.month).mean()\n",
        "    preds = pd.Series([monthly_means[m] for m in forecast_index.month], index=forecast_index)\n",
        "\n",
        "preds = preds.clip(lower=0)\n",
        "\n",
        "# Save as TSV\n",
        "out = pd.DataFrame({'month': preds.index.strftime('%Y-%m-%d'), 'price': preds.values})\n",
        "out.to_csv(\"strawberry-backtest.tsv\", sep=\"\\t\", index=False)"
      ]
    },
    {
      "cell_type": "markdown",
      "metadata": {
        "id": "vzTi6z-skMoz"
      },
      "source": [
        "Submit \"strawberry-backtest.tsv\" in Gradescope."
      ]
    },
    {
      "cell_type": "markdown",
      "metadata": {
        "id": "T3D1ItqDnt9c"
      },
      "source": [
        "## Part 2: Backtest Errors\n",
        "\n",
        "What are the mean and standard deviation of the residuals between your backtest predictions and the ground truth? (If your mean is not close to zero, then you may be missing a long term trend.)\n",
        "\n",
        "Write the mean and standard deviation to a file \"backtest-accuracy.tsv\" with two columns, mean and std."
      ]
    },
    {
      "cell_type": "code",
      "execution_count": 34,
      "metadata": {
        "id": "3wxh46v8tnv8"
      },
      "outputs": [],
      "source": [
        "# YOUR CHANGES HERE\n",
        "\n",
        "actual_2024 = df[(df[\"month\"] >= \"2024-01-01\") & (df[\"month\"] < \"2025-01-01\")][[\"month\", \"price\"]].copy()\n",
        "pred_df = pd.DataFrame({\"month\": forecast_index, \"pred\": preds.values})\n",
        "\n",
        "merged = actual_2024.merge(pred_df, on=\"month\", how=\"inner\").sort_values(\"month\")\n",
        "merged[\"residual\"] = merged[\"price\"] - merged[\"pred\"]\n",
        "\n",
        "mean_resid = merged[\"residual\"].mean()\n",
        "std_resid = merged[\"residual\"].std(ddof=1)\n",
        "\n",
        "# Save accuracy file\n",
        "pd.DataFrame({\"mean\": [mean_resid], \"std\": [std_resid]}).to_csv(\"backtest-accuracy.tsv\", sep=\"\\t\", index=False)"
      ]
    },
    {
      "cell_type": "code",
      "execution_count": 35,
      "metadata": {},
      "outputs": [
        {
          "data": {
            "text/html": [
              "<div>\n",
              "<style scoped>\n",
              "    .dataframe tbody tr th:only-of-type {\n",
              "        vertical-align: middle;\n",
              "    }\n",
              "\n",
              "    .dataframe tbody tr th {\n",
              "        vertical-align: top;\n",
              "    }\n",
              "\n",
              "    .dataframe thead th {\n",
              "        text-align: right;\n",
              "    }\n",
              "</style>\n",
              "<table border=\"1\" class=\"dataframe\">\n",
              "  <thead>\n",
              "    <tr style=\"text-align: right;\">\n",
              "      <th></th>\n",
              "      <th>month</th>\n",
              "      <th>price</th>\n",
              "      <th>pred</th>\n",
              "      <th>residual</th>\n",
              "    </tr>\n",
              "  </thead>\n",
              "  <tbody>\n",
              "    <tr>\n",
              "      <th>0</th>\n",
              "      <td>2024-01-01</td>\n",
              "      <td>5.055</td>\n",
              "      <td>4.362750</td>\n",
              "      <td>0.692250</td>\n",
              "    </tr>\n",
              "    <tr>\n",
              "      <th>1</th>\n",
              "      <td>2024-02-01</td>\n",
              "      <td>4.264</td>\n",
              "      <td>4.091250</td>\n",
              "      <td>0.172750</td>\n",
              "    </tr>\n",
              "    <tr>\n",
              "      <th>2</th>\n",
              "      <td>2024-03-01</td>\n",
              "      <td>3.742</td>\n",
              "      <td>3.688750</td>\n",
              "      <td>0.053250</td>\n",
              "    </tr>\n",
              "    <tr>\n",
              "      <th>3</th>\n",
              "      <td>2024-04-01</td>\n",
              "      <td>3.576</td>\n",
              "      <td>3.787200</td>\n",
              "      <td>-0.211200</td>\n",
              "    </tr>\n",
              "    <tr>\n",
              "      <th>4</th>\n",
              "      <td>2024-05-01</td>\n",
              "      <td>3.237</td>\n",
              "      <td>3.526250</td>\n",
              "      <td>-0.289250</td>\n",
              "    </tr>\n",
              "    <tr>\n",
              "      <th>5</th>\n",
              "      <td>2024-06-01</td>\n",
              "      <td>2.977</td>\n",
              "      <td>3.275000</td>\n",
              "      <td>-0.298000</td>\n",
              "    </tr>\n",
              "    <tr>\n",
              "      <th>6</th>\n",
              "      <td>2024-07-01</td>\n",
              "      <td>3.116</td>\n",
              "      <td>3.194000</td>\n",
              "      <td>-0.078000</td>\n",
              "    </tr>\n",
              "    <tr>\n",
              "      <th>7</th>\n",
              "      <td>2024-08-01</td>\n",
              "      <td>3.347</td>\n",
              "      <td>3.489750</td>\n",
              "      <td>-0.142750</td>\n",
              "    </tr>\n",
              "    <tr>\n",
              "      <th>8</th>\n",
              "      <td>2024-09-01</td>\n",
              "      <td>3.742</td>\n",
              "      <td>3.581750</td>\n",
              "      <td>0.160250</td>\n",
              "    </tr>\n",
              "    <tr>\n",
              "      <th>9</th>\n",
              "      <td>2024-10-01</td>\n",
              "      <td>3.718</td>\n",
              "      <td>3.926000</td>\n",
              "      <td>-0.208000</td>\n",
              "    </tr>\n",
              "    <tr>\n",
              "      <th>10</th>\n",
              "      <td>2024-11-01</td>\n",
              "      <td>4.420</td>\n",
              "      <td>4.398000</td>\n",
              "      <td>0.022000</td>\n",
              "    </tr>\n",
              "    <tr>\n",
              "      <th>11</th>\n",
              "      <td>2024-12-01</td>\n",
              "      <td>4.857</td>\n",
              "      <td>4.788575</td>\n",
              "      <td>0.068425</td>\n",
              "    </tr>\n",
              "  </tbody>\n",
              "</table>\n",
              "</div>"
            ],
            "text/plain": [
              "        month  price      pred  residual\n",
              "0  2024-01-01  5.055  4.362750  0.692250\n",
              "1  2024-02-01  4.264  4.091250  0.172750\n",
              "2  2024-03-01  3.742  3.688750  0.053250\n",
              "3  2024-04-01  3.576  3.787200 -0.211200\n",
              "4  2024-05-01  3.237  3.526250 -0.289250\n",
              "5  2024-06-01  2.977  3.275000 -0.298000\n",
              "6  2024-07-01  3.116  3.194000 -0.078000\n",
              "7  2024-08-01  3.347  3.489750 -0.142750\n",
              "8  2024-09-01  3.742  3.581750  0.160250\n",
              "9  2024-10-01  3.718  3.926000 -0.208000\n",
              "10 2024-11-01  4.420  4.398000  0.022000\n",
              "11 2024-12-01  4.857  4.788575  0.068425"
            ]
          },
          "execution_count": 35,
          "metadata": {},
          "output_type": "execute_result"
        }
      ],
      "source": [
        "merged"
      ]
    },
    {
      "cell_type": "markdown",
      "metadata": {
        "id": "Cq2d378QtnG9"
      },
      "source": [
        "Submit \"backtest-accuracy.tsv\" in Gradescope."
      ]
    },
    {
      "cell_type": "markdown",
      "metadata": {
        "id": "Pa4DWVrpj5mq"
      },
      "source": [
        "## Part 3: Forecast Strawberry Prices\n",
        "\n",
        "Use all the data from 2020 through 2024 to predict monthly prices in 2025 using the same methodology from part 1.\n",
        "Make a monthly forecast for each month of 2025 and save it as \"strawberry-forecast.tsv\" with columns for month and price."
      ]
    },
    {
      "cell_type": "code",
      "execution_count": 15,
      "metadata": {
        "id": "CiKoW3BrkJiS"
      },
      "outputs": [],
      "source": [
        "# YOUR CHANGES HERE\n",
        "\n",
        "#df.columns = df.columns.astype(str).str.strip().str.lower()\n",
        "#df = df.reset_index()\n",
        "\n",
        "# Parse month to datetime and sort\n",
        "df['month'] = pd.to_datetime(df['month'])\n",
        "df = df.sort_values('month').reset_index(drop=True)\n",
        "\n",
        "# Train on all 2020–2024 and create a complete monthly index\n",
        "train = df[(df['month'] >= '2020-01-01') & (df['month'] < '2025-01-01')].copy()\n",
        "all_months_train = pd.date_range('2020-01-01', '2024-12-01', freq='MS')\n",
        "train = train.set_index('month').reindex(all_months_train).rename_axis('month')\n",
        "train['price'] = train['price'].interpolate(method='time')\n",
        "\n",
        "# Forecast 2024 (Holt-Winters)\n",
        "forecast_index = pd.date_range('2025-01-01', '2025-12-01', freq='MS')\n",
        "y = train['price'].astype(float)\n",
        "\n",
        "try:\n",
        "    from statsmodels.tsa.holtwinters import ExponentialSmoothing\n",
        "    model = ExponentialSmoothing(\n",
        "    y, trend='add', damped_trend=True, seasonal='add', seasonal_periods=12,\n",
        "        initialization_method='estimated'\n",
        "    ).fit(optimized=True, use_brute=True)\n",
        "    preds = pd.Series(model.forecast(len(forecast_index)).values, index=forecast_index)\n",
        "except Exception:\n",
        "    # Seasonal-naive fallback: average price for each calendar month across 2020–2023\n",
        "    monthly_means = y.groupby(y.index.month).mean()\n",
        "    preds = pd.Series([monthly_means[m] for m in forecast_index.month], index=forecast_index)\n",
        "\n",
        "preds = preds.clip(lower=0)\n",
        "\n",
        "# Save as TSV\n",
        "out = pd.DataFrame({'month': preds.index.strftime('%Y-%m-%d'), 'price': preds.values})\n",
        "out.to_csv(\"strawberry-forecast.tsv\", sep=\"\\t\", index=False)"
      ]
    },
    {
      "cell_type": "markdown",
      "metadata": {
        "id": "32lM_MPdico0"
      },
      "source": [
        "Submit \"strawberry-forecast.tsv\" in Gradescope."
      ]
    },
    {
      "cell_type": "markdown",
      "metadata": {
        "id": "SzCWxxaLi8MH"
      },
      "source": [
        "## Part 4: Buy Low, Freeze and Sell High\n",
        "\n",
        "Using your 2025 forecast, analyze the profit picking different pairs of months to buy and sell strawberries.\n",
        "Maximize your profit assuming that it costs &dollar;0.20 per pint to freeze the strawberries, &dollar;0.10 per pint per month to store the frozen strawberries and there is a 10% price discount from selling previously frozen strawberries.\n",
        "So, if you buy a pint of strawberies for &dollar;1, freeze them, and sell them for &dollar;2 three months after buying them, then the profit is &dollar;2 * 0.9 - &dollar;1 - &dollar;0.20 - &dollar;0.10 * 3 = &dollar;0.30 per pint.\n",
        "To evaluate a given pair of months, assume that you can invest &dollar;1,000,000 to cover all costs, and that you buy as many pints of strawberries as possible.\n",
        "\n",
        "Write the results of your analysis to a file \"timings.tsv\" with columns for the buy_month, sell_month, pints_purchased, and expected_profit."
      ]
    },
    {
      "cell_type": "code",
      "execution_count": 17,
      "metadata": {
        "id": "pGWQQvy6nkCk"
      },
      "outputs": [
        {
          "data": {
            "text/html": [
              "<div>\n",
              "<style scoped>\n",
              "    .dataframe tbody tr th:only-of-type {\n",
              "        vertical-align: middle;\n",
              "    }\n",
              "\n",
              "    .dataframe tbody tr th {\n",
              "        vertical-align: top;\n",
              "    }\n",
              "\n",
              "    .dataframe thead th {\n",
              "        text-align: right;\n",
              "    }\n",
              "</style>\n",
              "<table border=\"1\" class=\"dataframe\">\n",
              "  <thead>\n",
              "    <tr style=\"text-align: right;\">\n",
              "      <th></th>\n",
              "      <th>buy_month</th>\n",
              "      <th>sell_month</th>\n",
              "      <th>pints_purchased</th>\n",
              "      <th>expected_profit</th>\n",
              "    </tr>\n",
              "  </thead>\n",
              "  <tbody>\n",
              "    <tr>\n",
              "      <th>0</th>\n",
              "      <td>2025-06</td>\n",
              "      <td>2025-11</td>\n",
              "      <td>255401</td>\n",
              "      <td>11942.55</td>\n",
              "    </tr>\n",
              "    <tr>\n",
              "      <th>1</th>\n",
              "      <td>2025-06</td>\n",
              "      <td>2025-12</td>\n",
              "      <td>249041</td>\n",
              "      <td>76364.44</td>\n",
              "    </tr>\n",
              "    <tr>\n",
              "      <th>2</th>\n",
              "      <td>2025-07</td>\n",
              "      <td>2025-11</td>\n",
              "      <td>264662</td>\n",
              "      <td>48634.29</td>\n",
              "    </tr>\n",
              "    <tr>\n",
              "      <th>3</th>\n",
              "      <td>2025-07</td>\n",
              "      <td>2025-12</td>\n",
              "      <td>257838</td>\n",
              "      <td>114385.70</td>\n",
              "    </tr>\n",
              "    <tr>\n",
              "      <th>4</th>\n",
              "      <td>2025-08</td>\n",
              "      <td>2025-11</td>\n",
              "      <td>252448</td>\n",
              "      <td>242.35</td>\n",
              "    </tr>\n",
              "    <tr>\n",
              "      <th>5</th>\n",
              "      <td>2025-08</td>\n",
              "      <td>2025-12</td>\n",
              "      <td>246232</td>\n",
              "      <td>64225.68</td>\n",
              "    </tr>\n",
              "    <tr>\n",
              "      <th>6</th>\n",
              "      <td>2025-09</td>\n",
              "      <td>2025-12</td>\n",
              "      <td>243084</td>\n",
              "      <td>50618.35</td>\n",
              "    </tr>\n",
              "    <tr>\n",
              "      <th>7</th>\n",
              "      <td>2025-10</td>\n",
              "      <td>2025-12</td>\n",
              "      <td>233404</td>\n",
              "      <td>8783.93</td>\n",
              "    </tr>\n",
              "  </tbody>\n",
              "</table>\n",
              "</div>"
            ],
            "text/plain": [
              "  buy_month sell_month  pints_purchased  expected_profit\n",
              "0   2025-06    2025-11           255401         11942.55\n",
              "1   2025-06    2025-12           249041         76364.44\n",
              "2   2025-07    2025-11           264662         48634.29\n",
              "3   2025-07    2025-12           257838        114385.70\n",
              "4   2025-08    2025-11           252448           242.35\n",
              "5   2025-08    2025-12           246232         64225.68\n",
              "6   2025-09    2025-12           243084         50618.35\n",
              "7   2025-10    2025-12           233404          8783.93"
            ]
          },
          "execution_count": 17,
          "metadata": {},
          "output_type": "execute_result"
        }
      ],
      "source": [
        "# YOUR CHANGES HERE\n",
        "\n",
        "# Load forecasted 2025 prices\n",
        "df2 = pd.read_csv('strawberry-forecast.tsv', sep=\"\\t\")\n",
        "\n",
        "# Ensure datetime and sort\n",
        "df2[\"month\"] = pd.to_datetime(df2[\"month\"])\n",
        "df2 = df2[df2[\"month\"].dt.year == 2025].sort_values(\"month\").reset_index(drop=True)\n",
        "\n",
        "# Parameters\n",
        "freeze_cost = 0.20  # per pint\n",
        "storage_cost_month = 0.10  # per pint per month\n",
        "discount = 0.9  # 10% discount on resale\n",
        "budget = 1_000_000\n",
        "\n",
        "results = []\n",
        "\n",
        "# Evaluate all buy/sell month pairs\n",
        "for i, buy_row in df2.iterrows():\n",
        "    for j, sell_row in df2.iterrows():\n",
        "        if j <= i:\n",
        "            continue  # must sell after buy\n",
        "\n",
        "        months_stored = (sell_row[\"month\"].to_period(\"M\") - buy_row[\"month\"].to_period(\"M\")).n\n",
        "        buy_price = buy_row[\"price\"]\n",
        "        sell_price = sell_row[\"price\"]\n",
        "\n",
        "        # Effective sell price after discount\n",
        "        effective_sell = sell_price * discount\n",
        "\n",
        "        # Cost per pint: purchase + freeze + storage\n",
        "        total_cost_per_pint = buy_price + freeze_cost + storage_cost_month * months_stored\n",
        "\n",
        "        # Revenue per pint\n",
        "        revenue_per_pint = effective_sell\n",
        "\n",
        "        profit_per_pint = revenue_per_pint - total_cost_per_pint\n",
        "\n",
        "        if profit_per_pint > 0:\n",
        "            # How many pints can we buy within budget (considering cost of purchase + freeze + storage)\n",
        "            pints = budget // total_cost_per_pint\n",
        "            total_profit = pints * profit_per_pint\n",
        "\n",
        "            results.append({\n",
        "                \"buy_month\": buy_row[\"month\"].strftime(\"%Y-%m\"),\n",
        "                \"sell_month\": sell_row[\"month\"].strftime(\"%Y-%m\"),\n",
        "                \"pints_purchased\": int(pints),\n",
        "                \"expected_profit\": round(total_profit, 2)\n",
        "            })\n",
        "\n",
        "# Convert to DataFrame\n",
        "timings_df = pd.DataFrame(results)\n",
        "\n",
        "# Save to file\n",
        "timings_df.to_csv('timings.tsv', sep=\"\\t\", index=False)\n",
        "\n",
        "timings_df"
      ]
    },
    {
      "cell_type": "markdown",
      "metadata": {
        "id": "XAWzFd54nlxI"
      },
      "source": [
        "Submit \"timings.tsv\" in Gradescope."
      ]
    },
    {
      "cell_type": "markdown",
      "metadata": {
        "id": "LdrZE8qKCDUv"
      },
      "source": [
        "## Part 5: Strategy Check\n",
        "\n",
        "What is the best profit scenario according to your previous timing analysis?\n",
        "How much does that profit change if the sell price is off by one standard deviation from your backtest analysis?\n",
        "(Variation in the sell price is more dangerous because you can see the buy price before fully committing.)\n",
        "\n",
        "Write the results to a file \"check.tsv\" with columns best_profit and one_std_profit."
      ]
    },
    {
      "cell_type": "code",
      "execution_count": 26,
      "metadata": {
        "id": "7HvYBo_wt8Rv"
      },
      "outputs": [],
      "source": [
        "# YOUR CHANGES HERE\n",
        "\n",
        "best_profit = timings_df.loc[3, \"expected_profit\"]\n",
        "\n",
        "acc = pd.read_csv(\"backtest-accuracy.tsv\", sep=\"\\t\")\n",
        "\n",
        "one_std = float(acc[\"std\"].iloc[0])\n",
        "\n",
        "# Recompute one_std_profit\n",
        "one_std_profit = best_profit - (one_std * pints)\n",
        "\n",
        "# Save results\n",
        "pd.DataFrame({\n",
        "    \"best_profit\": [best_profit],\n",
        "    \"one_std_profit\": [one_std_profit]\n",
        "}).to_csv('check.tsv', sep=\"\\t\", index=False)"
      ]
    },
    {
      "cell_type": "markdown",
      "metadata": {
        "id": "M--8x-ZMEKAi"
      },
      "source": [
        "Submit \"check.tsv\" in Gradescope."
      ]
    },
    {
      "cell_type": "markdown",
      "metadata": {
        "id": "usYg0VtaqrGN"
      },
      "source": [
        "## Part 6: Acknowledgments\n",
        "\n",
        "Make a file \"acknowledgments.txt\" documenting any outside sources or help on this project.\n",
        "If you discussed this assignment with anyone, please acknowledge them here.\n",
        "If you used any libraries not mentioned in this module's content, please list them with a brief explanation what you used them for.\n",
        "If you used any generative AI tools, please add links to your transcripts below, and any other information that you feel is necessary to comply with the generative AI policy.\n",
        "If no acknowledgments are appropriate, just write none in the file.\n"
      ]
    },
    {
      "cell_type": "markdown",
      "metadata": {
        "id": "dZdLWQD8qvVV"
      },
      "source": [
        "Submit \"acknowledgments.txt\" in Gradescope."
      ]
    },
    {
      "cell_type": "markdown",
      "metadata": {
        "id": "n7ls909LqzkL"
      },
      "source": [
        "## Part 7: Code\n",
        "\n",
        "Please submit a Jupyter notebook that can reproduce all your calculations and recreate the previously submitted files.\n",
        "You do not need to provide code for data collection if you did that by manually."
      ]
    },
    {
      "cell_type": "markdown",
      "metadata": {
        "id": "mtgsTYQIq2pB"
      },
      "source": [
        "Submit \"project.ipynb\" in Gradescope."
      ]
    }
  ],
  "metadata": {
    "colab": {
      "toc_visible": false
    },
    "kernelspec": {
      "display_name": "Python 3",
      "name": "python3"
    },
    "language_info": {
      "codemirror_mode": {
        "name": "ipython",
        "version": 3
      },
      "file_extension": ".py",
      "mimetype": "text/x-python",
      "name": "python",
      "nbconvert_exporter": "python",
      "pygments_lexer": "ipython3",
      "version": "3.12.1"
    }
  },
  "nbformat": 4,
  "nbformat_minor": 0
}
